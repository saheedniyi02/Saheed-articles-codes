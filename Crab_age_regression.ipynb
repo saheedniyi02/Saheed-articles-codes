{
  "nbformat": 4,
  "nbformat_minor": 0,
  "metadata": {
    "colab": {
      "provenance": [],
      "mount_file_id": "1_Sdub9HeZpgLAjE3xJRVxCPyWuR2Ef6D",
      "authorship_tag": "ABX9TyNNvixf2vZ3zJSdCmgHRXvF",
      "include_colab_link": true
    },
    "kernelspec": {
      "name": "python3",
      "display_name": "Python 3"
    },
    "language_info": {
      "name": "python"
    }
  },
  "cells": [
    {
      "cell_type": "markdown",
      "metadata": {
        "id": "view-in-github",
        "colab_type": "text"
      },
      "source": [
        "<a href=\"https://colab.research.google.com/github/saheedniyi02/Saheed-articles-codes/blob/main/Crab_age_regression.ipynb\" target=\"_parent\"><img src=\"https://colab.research.google.com/assets/colab-badge.svg\" alt=\"Open In Colab\"/></a>"
      ]
    },
    {
      "cell_type": "code",
      "source": [
        "pip install catboost"
      ],
      "metadata": {
        "colab": {
          "base_uri": "https://localhost:8080/"
        },
        "id": "nU2wPa6LcYtB",
        "outputId": "bc83a41f-2170-4925-bb74-3808294d1ccd"
      },
      "execution_count": 1,
      "outputs": [
        {
          "output_type": "stream",
          "name": "stdout",
          "text": [
            "Collecting catboost\n",
            "  Downloading catboost-1.2-cp310-cp310-manylinux2014_x86_64.whl (98.6 MB)\n",
            "\u001b[2K     \u001b[90m━━━━━━━━━━━━━━━━━━━━━━━━━━━━━━━━━━━━━━━━\u001b[0m \u001b[32m98.6/98.6 MB\u001b[0m \u001b[31m7.6 MB/s\u001b[0m eta \u001b[36m0:00:00\u001b[0m\n",
            "\u001b[?25hRequirement already satisfied: graphviz in /usr/local/lib/python3.10/dist-packages (from catboost) (0.20.1)\n",
            "Requirement already satisfied: matplotlib in /usr/local/lib/python3.10/dist-packages (from catboost) (3.7.1)\n",
            "Requirement already satisfied: numpy>=1.16.0 in /usr/local/lib/python3.10/dist-packages (from catboost) (1.22.4)\n",
            "Requirement already satisfied: pandas>=0.24 in /usr/local/lib/python3.10/dist-packages (from catboost) (1.5.3)\n",
            "Requirement already satisfied: scipy in /usr/local/lib/python3.10/dist-packages (from catboost) (1.10.1)\n",
            "Requirement already satisfied: plotly in /usr/local/lib/python3.10/dist-packages (from catboost) (5.13.1)\n",
            "Requirement already satisfied: six in /usr/local/lib/python3.10/dist-packages (from catboost) (1.16.0)\n",
            "Requirement already satisfied: python-dateutil>=2.8.1 in /usr/local/lib/python3.10/dist-packages (from pandas>=0.24->catboost) (2.8.2)\n",
            "Requirement already satisfied: pytz>=2020.1 in /usr/local/lib/python3.10/dist-packages (from pandas>=0.24->catboost) (2022.7.1)\n",
            "Requirement already satisfied: contourpy>=1.0.1 in /usr/local/lib/python3.10/dist-packages (from matplotlib->catboost) (1.1.0)\n",
            "Requirement already satisfied: cycler>=0.10 in /usr/local/lib/python3.10/dist-packages (from matplotlib->catboost) (0.11.0)\n",
            "Requirement already satisfied: fonttools>=4.22.0 in /usr/local/lib/python3.10/dist-packages (from matplotlib->catboost) (4.40.0)\n",
            "Requirement already satisfied: kiwisolver>=1.0.1 in /usr/local/lib/python3.10/dist-packages (from matplotlib->catboost) (1.4.4)\n",
            "Requirement already satisfied: packaging>=20.0 in /usr/local/lib/python3.10/dist-packages (from matplotlib->catboost) (23.1)\n",
            "Requirement already satisfied: pillow>=6.2.0 in /usr/local/lib/python3.10/dist-packages (from matplotlib->catboost) (8.4.0)\n",
            "Requirement already satisfied: pyparsing>=2.3.1 in /usr/local/lib/python3.10/dist-packages (from matplotlib->catboost) (3.1.0)\n",
            "Requirement already satisfied: tenacity>=6.2.0 in /usr/local/lib/python3.10/dist-packages (from plotly->catboost) (8.2.2)\n",
            "Installing collected packages: catboost\n",
            "Successfully installed catboost-1.2\n"
          ]
        }
      ]
    },
    {
      "cell_type": "code",
      "execution_count": 2,
      "metadata": {
        "id": "mFYPmmnE9qBB"
      },
      "outputs": [],
      "source": [
        "import numpy as np\n",
        "import pandas as pd"
      ]
    },
    {
      "cell_type": "code",
      "source": [
        "train=pd.read_csv(\"/content/drive/MyDrive/Playground/train.csv\",index_col=0)\n",
        "test=pd.read_csv(\"/content/drive/MyDrive/Playground/test.csv\",index_col=0)"
      ],
      "metadata": {
        "id": "DKocYI_u9yBx"
      },
      "execution_count": 3,
      "outputs": []
    },
    {
      "cell_type": "markdown",
      "source": [
        "## Data cleaning"
      ],
      "metadata": {
        "id": "AG6IerPL_tsS"
      }
    },
    {
      "cell_type": "code",
      "source": [
        "#check for missing values\n",
        "print(train.isna().sum())\n",
        "print(test.isna().sum())"
      ],
      "metadata": {
        "colab": {
          "base_uri": "https://localhost:8080/"
        },
        "id": "Zzih3XZG_lqa",
        "outputId": "a707ec11-f7ed-4213-a9ee-f03d5b1b0192"
      },
      "execution_count": 4,
      "outputs": [
        {
          "output_type": "stream",
          "name": "stdout",
          "text": [
            "Sex               0\n",
            "Length            0\n",
            "Diameter          0\n",
            "Height            0\n",
            "Weight            0\n",
            "Shucked Weight    0\n",
            "Viscera Weight    0\n",
            "Shell Weight      0\n",
            "Age               0\n",
            "dtype: int64\n",
            "Sex               0\n",
            "Length            0\n",
            "Diameter          0\n",
            "Height            0\n",
            "Weight            0\n",
            "Shucked Weight    0\n",
            "Viscera Weight    0\n",
            "Shell Weight      0\n",
            "dtype: int64\n"
          ]
        }
      ]
    },
    {
      "cell_type": "code",
      "source": [
        "#Separate the target column and drop it from the train dataframe\n",
        "target=train[\"Age\"]\n",
        "train.drop(\"Age\",axis=1,inplace=True)"
      ],
      "metadata": {
        "id": "dwYF1NYXfjSl"
      },
      "execution_count": 5,
      "outputs": []
    },
    {
      "cell_type": "code",
      "source": [
        "#Check for categorical columns\n",
        "print(train.dtypes)\n",
        "print(test.dtypes)"
      ],
      "metadata": {
        "colab": {
          "base_uri": "https://localhost:8080/"
        },
        "id": "LXF0kqPknChb",
        "outputId": "7c79608f-1778-4928-f9c7-1fc0e4aad727"
      },
      "execution_count": 6,
      "outputs": [
        {
          "output_type": "stream",
          "name": "stdout",
          "text": [
            "Sex                object\n",
            "Length            float64\n",
            "Diameter          float64\n",
            "Height            float64\n",
            "Weight            float64\n",
            "Shucked Weight    float64\n",
            "Viscera Weight    float64\n",
            "Shell Weight      float64\n",
            "dtype: object\n",
            "Sex                object\n",
            "Length            float64\n",
            "Diameter          float64\n",
            "Height            float64\n",
            "Weight            float64\n",
            "Shucked Weight    float64\n",
            "Viscera Weight    float64\n",
            "Shell Weight      float64\n",
            "dtype: object\n"
          ]
        }
      ]
    },
    {
      "cell_type": "code",
      "source": [
        "#Check the unique values in the Sex column\n",
        "print(train[\"Sex\"].value_counts())"
      ],
      "metadata": {
        "colab": {
          "base_uri": "https://localhost:8080/"
        },
        "id": "3LDs_Ogaob0W",
        "outputId": "bbbcdb64-9fbf-4fb4-87d7-771077cbbc1c"
      },
      "execution_count": 7,
      "outputs": [
        {
          "output_type": "stream",
          "name": "stdout",
          "text": [
            "M    27084\n",
            "I    23957\n",
            "F    23010\n",
            "Name: Sex, dtype: int64\n"
          ]
        }
      ]
    },
    {
      "cell_type": "code",
      "source": [
        "train[\"Sex\"]=train[\"Sex\"].map({\"M\":0,\"I\":1,\"F\":2})\n",
        "test[\"Sex\"]=test[\"Sex\"].map({\"M\":0,\"I\":1,\"F\":2})"
      ],
      "metadata": {
        "id": "Q32UfsWxK0V1"
      },
      "execution_count": 8,
      "outputs": []
    },
    {
      "cell_type": "code",
      "source": [
        "print(train.shape,test.shape)"
      ],
      "metadata": {
        "colab": {
          "base_uri": "https://localhost:8080/"
        },
        "id": "9PoSSwDm_BJ_",
        "outputId": "a8993099-4a3f-4306-8774-fcd14aa972cd"
      },
      "execution_count": 9,
      "outputs": [
        {
          "output_type": "stream",
          "name": "stdout",
          "text": [
            "(74051, 8) (49368, 8)\n"
          ]
        }
      ]
    },
    {
      "cell_type": "code",
      "source": [
        "#splitting the train data into [X and val]\n",
        "from sklearn.model_selection import train_test_split\n",
        "X,val,y,y_val=train_test_split(train,target,test_size=0.15,random_state=0)"
      ],
      "metadata": {
        "id": "_thruoEitGyg"
      },
      "execution_count": 10,
      "outputs": []
    },
    {
      "cell_type": "code",
      "source": [
        "from lightgbm import LGBMRegressor\n",
        "from xgboost import XGBRegressor"
      ],
      "metadata": {
        "id": "zjaONpE3jZzZ"
      },
      "execution_count": 11,
      "outputs": []
    },
    {
      "cell_type": "markdown",
      "source": [
        "### Catboost"
      ],
      "metadata": {
        "id": "RnLQdepF7WoM"
      }
    },
    {
      "cell_type": "code",
      "source": [
        "#import the regressor\n",
        "from catboost import CatBoostRegressor\n",
        "\n",
        "#create the model\n",
        "model_catboost=CatBoostRegressor(verbose=0,random_state=0)\n",
        "\n",
        "#fit the model on the X,y data\n",
        "model_catboost.fit(X,y)\n",
        "\n",
        "#predictions on the X,val and test dataframe\n",
        "pred_x_catboost=model_catboost.predict(X)\n",
        "pred_val_catboost=model_catboost.predict(val)\n",
        "pred_test_catboost=model_catboost.predict(test)\n",
        "\n",
        "#import mean_absolute_error\n",
        "from sklearn.metrics import mean_absolute_error\n",
        "\n",
        "#check the mean absolute error of the validation and X dataframe\n",
        "print(mean_absolute_error(pred_val_catboost,y_val,))\n",
        "print(mean_absolute_error(pred_x_catboost,y))"
      ],
      "metadata": {
        "colab": {
          "base_uri": "https://localhost:8080/"
        },
        "id": "cyAwGSTGGre8",
        "outputId": "c5541bf3-0ea8-4fdf-87a6-e700554d2887"
      },
      "execution_count": 12,
      "outputs": [
        {
          "output_type": "stream",
          "name": "stdout",
          "text": [
            "1.3934372745397485\n",
            "1.3182671076008703\n"
          ]
        }
      ]
    },
    {
      "cell_type": "code",
      "source": [
        "#creating a submision file\n",
        "sub_catboost=pd.DataFrame({\"id\":test.index,\"Age\":pred_test_catboost}).set_index(\"id\")\n",
        "sub_catboost.to_csv(\"submission_catboost.csv\")"
      ],
      "metadata": {
        "id": "n-SLb2KH5_xA"
      },
      "execution_count": 13,
      "outputs": []
    },
    {
      "cell_type": "markdown",
      "source": [
        "### Lightgbm"
      ],
      "metadata": {
        "id": "mcnoD7y57NaP"
      }
    },
    {
      "cell_type": "code",
      "source": [
        "model_lightgbm=LGBMRegressor(random_state=0)\n",
        "model_lightgbm.fit(X,y)\n",
        "pred_x_lightgbm=model_lightgbm.predict(X)\n",
        "pred_val_lightgbm=model_lightgbm.predict(val)\n",
        "pred_test_lightgbm=model_lightgbm.predict(test)\n",
        "print(mean_absolute_error(pred_val_lightgbm,y_val,))\n",
        "print(mean_absolute_error(pred_x_lightgbm,y))"
      ],
      "metadata": {
        "colab": {
          "base_uri": "https://localhost:8080/"
        },
        "id": "DOwZGvoMHcHu",
        "outputId": "ad6a2965-ee42-469a-f1f8-f8120a6f10e3"
      },
      "execution_count": 14,
      "outputs": [
        {
          "output_type": "stream",
          "name": "stdout",
          "text": [
            "1.392688087431402\n",
            "1.3565696388540662\n"
          ]
        }
      ]
    },
    {
      "cell_type": "code",
      "source": [
        "#creating a submisiion file\n",
        "sub_lightboost=pd.DataFrame({\"id\":test.index,\"Age\":pred_test_lightgbm}).set_index(\"id\")\n",
        "sub_lightboost.to_csv(\"submission_lgb.csv\")"
      ],
      "metadata": {
        "id": "nT7UhD9R6UPN"
      },
      "execution_count": 15,
      "outputs": []
    },
    {
      "cell_type": "markdown",
      "source": [
        "### XGBoost"
      ],
      "metadata": {
        "id": "fOmEMZbH7SDm"
      }
    },
    {
      "cell_type": "code",
      "source": [
        "model_xgboost=XGBRegressor(random_state=0)\n",
        "model_xgboost.fit(X,y)\n",
        "pred_x_xgboost=model_xgboost.predict(X)\n",
        "pred_val_xgboost=model_xgboost.predict(val)\n",
        "pred_test_xgboost=model_xgboost.predict(test)\n",
        "print(mean_absolute_error(pred_val_xgboost,y_val))\n",
        "print(mean_absolute_error(pred_x_xgboost,y))"
      ],
      "metadata": {
        "colab": {
          "base_uri": "https://localhost:8080/"
        },
        "id": "933SH4YUIfAF",
        "outputId": "95e7da54-303e-469f-aacf-e336b58f861c"
      },
      "execution_count": 16,
      "outputs": [
        {
          "output_type": "stream",
          "name": "stdout",
          "text": [
            "1.4087671341980195\n",
            "1.2560569550215572\n"
          ]
        }
      ]
    },
    {
      "cell_type": "code",
      "source": [
        "#creating a submision file\n",
        "sub_xgboost=pd.DataFrame({\"id\":test.index,\"Age\":pred_test_xgboost}).set_index(\"id\")\n",
        "sub_xgboost.to_csv(\"submission_xgb.csv\")"
      ],
      "metadata": {
        "id": "7p7I9w8BH2BW"
      },
      "execution_count": 17,
      "outputs": []
    },
    {
      "cell_type": "markdown",
      "source": [
        "## Mean"
      ],
      "metadata": {
        "id": "w20wfs1Fnytr"
      }
    },
    {
      "cell_type": "code",
      "source": [
        "mean_predictions=(pred_test_catboost+pred_test_lightgbm+pred_test_xgboost)/3\n",
        "\n",
        "#create a submission file\n",
        "sub_mode=pd.DataFrame({\"id\":test.index,\"Age\":mean_predictions}).set_index(\"id\")\n",
        "sub_mode.to_csv(\"sub_mean.csv\")"
      ],
      "metadata": {
        "id": "qOo6F0MBof-Q"
      },
      "execution_count": 18,
      "outputs": []
    },
    {
      "cell_type": "markdown",
      "source": [
        "## voting"
      ],
      "metadata": {
        "id": "Y2rMxV6YCpGt"
      }
    },
    {
      "cell_type": "code",
      "source": [
        "#import voting regressor\n",
        "from sklearn.ensemble import VotingRegressor#,StackingRegressor,BaggingRegressor\n",
        "\n",
        "#sub_models\n",
        "estimators=[(\"catboost\",model_catboost),\n",
        "           (\"lightboost\",model_lightgbm),\n",
        "           (\"xgboost\",model_xgboost)]\n",
        "model_voting=VotingRegressor(estimators=estimators)\n",
        "model_voting.fit(X,y)\n",
        "pred_x_voting=model_voting.predict(X)\n",
        "pred_val_voting=model_voting.predict(val)\n",
        "pred_test_voting=model_voting.predict(test)\n",
        "print(mean_absolute_error(pred_val_voting,y_val))\n",
        "print(mean_absolute_error(pred_x_voting,y))"
      ],
      "metadata": {
        "colab": {
          "base_uri": "https://localhost:8080/"
        },
        "id": "Sxh6NA8uvxVR",
        "outputId": "7ab475f6-38a7-4c0c-e16b-44ae6b5244f0"
      },
      "execution_count": 19,
      "outputs": [
        {
          "output_type": "stream",
          "name": "stdout",
          "text": [
            "1.389825948313698\n",
            "1.303598908807795\n"
          ]
        }
      ]
    },
    {
      "cell_type": "code",
      "source": [
        "sub_voting=pd.DataFrame({\"id\":test.index,\"Age\":pred_test_voting}).set_index(\"id\")\n",
        "sub_voting.to_csv(\"submission_voting.csv\")"
      ],
      "metadata": {
        "id": "Hje1XutbGsBO"
      },
      "execution_count": 20,
      "outputs": []
    },
    {
      "cell_type": "markdown",
      "source": [
        "## Stacking"
      ],
      "metadata": {
        "id": "J_ULuMiVE77C"
      }
    },
    {
      "cell_type": "code",
      "source": [
        "#Build a dataframe of the model's predictions\n",
        "X_predictions_dataframe=pd.DataFrame({\"catboost\":pred_x_catboost,\n",
        "                             \"lightboost\":pred_x_lightgbm,\n",
        "                             \"xgboost\":pred_x_xgboost})\n",
        "test_predictions_dataframe=pd.DataFrame({\"catboost\":pred_test_catboost,\n",
        "                             \"lightboost\":pred_test_lightgbm,\n",
        "                             \"xgboost\":pred_test_xgboost})\n",
        "val_predictions_dataframe=pd.DataFrame({\"catboost\":pred_val_catboost,\n",
        "                             \"lightboost\":pred_val_lightgbm,\n",
        "                             \"xgboost\":pred_val_xgboost})"
      ],
      "metadata": {
        "id": "-5yJC_XLE64Y"
      },
      "execution_count": 21,
      "outputs": []
    },
    {
      "cell_type": "code",
      "source": [
        "from sklearn.linear_model import LinearRegression\n",
        "\n",
        "final_model=LinearRegression()\n",
        "final_model.fit(X_predictions_dataframe,y)\n",
        "pred_x_final=final_model.predict(X_predictions_dataframe)\n",
        "pred_val_final=final_model.predict(val_predictions_dataframe)\n",
        "pred_test_final=final_model.predict(test_predictions_dataframe)\n",
        "print(mean_absolute_error(pred_val_final,y_val))\n",
        "print(mean_absolute_error(pred_x_final,y))"
      ],
      "metadata": {
        "colab": {
          "base_uri": "https://localhost:8080/"
        },
        "id": "54OaFa9-HJts",
        "outputId": "c3f6b379-daea-4d0c-d86a-6e8b66f5835d"
      },
      "execution_count": 22,
      "outputs": [
        {
          "output_type": "stream",
          "name": "stdout",
          "text": [
            "1.4605724666855617\n",
            "1.228132885830056\n"
          ]
        }
      ]
    },
    {
      "cell_type": "code",
      "source": [
        "sub_final=pd.DataFrame({\"id\":test.index,\"Age\":pred_test_final}).set_index(\"id\")\n",
        "sub_final.to_csv(\"submission_final.csv\")"
      ],
      "metadata": {
        "id": "7vJmUatQPP1G"
      },
      "execution_count": 23,
      "outputs": []
    },
    {
      "cell_type": "markdown",
      "source": [
        "## sklearn stacking"
      ],
      "metadata": {
        "id": "FOIOv2uyIRz6"
      }
    },
    {
      "cell_type": "code",
      "source": [
        "from sklearn.ensemble import StackingRegressor\n",
        "\n",
        "model_stack=StackingRegressor(estimators=estimators,final_estimator=final_model)\n",
        "model_stack.fit(X,y)\n",
        "pred_x_stack=model_stack.predict(X)\n",
        "pred_val_stack=model_stack.predict(val)\n",
        "pred_test_stack=model_stack.predict(test)\n",
        "print(mean_absolute_error(pred_val_stack,y_val))\n",
        "print(mean_absolute_error(pred_x_stack,y))"
      ],
      "metadata": {
        "colab": {
          "base_uri": "https://localhost:8080/"
        },
        "id": "eKb_4F-bIU0l",
        "outputId": "07c07c39-c9b7-46bd-e5ec-264bc874b088"
      },
      "execution_count": 24,
      "outputs": [
        {
          "output_type": "stream",
          "name": "stdout",
          "text": [
            "1.3887467695231086\n",
            "1.3220347992279269\n"
          ]
        }
      ]
    },
    {
      "cell_type": "code",
      "source": [
        "sub_stack=pd.DataFrame({\"id\":test.index,\"Age\":pred_test_stack}).set_index(\"id\")\n",
        "sub_stack.to_csv(\"submission_stack.csv\")"
      ],
      "metadata": {
        "id": "O8FaPS9FJEEX"
      },
      "execution_count": 25,
      "outputs": []
    },
    {
      "cell_type": "markdown",
      "source": [
        "**KFold**"
      ],
      "metadata": {
        "id": "qBNavEICJfOC"
      }
    },
    {
      "cell_type": "code",
      "source": [
        "from sklearn.model_selection import KFold\n",
        "\n",
        "folds=KFold(n_splits=8,shuffle=True,random_state=0)\n",
        "predictions_df=pd.DataFrame()\n",
        "mae_val=[]\n",
        "mae_X=[]\n",
        "model=CatBoostRegressor(verbose=0,random_state=0)\n",
        "for i,(train_index,test_index) in enumerate(folds.split(train,target)):\n",
        "    train_fold=train.iloc[train_index]\n",
        "    val_fold=train.iloc[test_index]\n",
        "    y_fold=target.iloc[train_index]\n",
        "    y_val_fold=target.iloc[test_index]\n",
        "    model.fit(train_fold,y_fold)\n",
        "    print(i)\n",
        "    prediction=model.predict(test)\n",
        "    predictions_df[i]=prediction\n",
        "    mae_val.append(mean_absolute_error(model.predict(val_fold),y_val_fold))\n",
        "    mae_X.append(mean_absolute_error(model.predict(train_fold),y_fold))\n",
        "print(mae_val)\n",
        "print(mae_X)"
      ],
      "metadata": {
        "colab": {
          "base_uri": "https://localhost:8080/"
        },
        "id": "yDzXvzRpKV0s",
        "outputId": "6e833bc0-51ac-41f3-d121-13102a159721"
      },
      "execution_count": 26,
      "outputs": [
        {
          "output_type": "stream",
          "name": "stdout",
          "text": [
            "0\n",
            "1\n",
            "2\n",
            "3\n",
            "4\n",
            "5\n",
            "6\n",
            "7\n",
            "[1.3922511761786873, 1.3909964991332031, 1.3934623088549272, 1.4107690728085112, 1.4151607187555988, 1.3847063919516438, 1.4042467715806202, 1.4264112538946645]\n",
            "[1.3199484306562965, 1.3191876700977663, 1.3171518826156348, 1.3125035449401412, 1.3125368920323623, 1.3203393612128353, 1.3174578797588379, 1.3122300529158002]\n"
          ]
        }
      ]
    },
    {
      "cell_type": "code",
      "source": [
        "predictions=predictions_df.mean(axis=1)\n",
        "sub_kfold_mean=pd.DataFrame({\"id\":test.index,\"Age\":predictions}).set_index(\"id\")\n",
        "sub_kfold_mean.to_csv(\"submission_kfold_mean.csv\")"
      ],
      "metadata": {
        "id": "flZyHjNYMdJG"
      },
      "execution_count": 27,
      "outputs": []
    },
    {
      "cell_type": "code",
      "source": [
        "predictions=predictions_df.median(axis=1)\n",
        "sub_kfold_median=pd.DataFrame({\"id\":test.index,\"Age\":predictions}).set_index(\"id\")\n",
        "sub_kfold_median.to_csv(\"submission_kfold_median.csv\")"
      ],
      "metadata": {
        "id": "3TfRM9jfxnnT"
      },
      "execution_count": 28,
      "outputs": []
    },
    {
      "cell_type": "markdown",
      "source": [
        "## Bagging"
      ],
      "metadata": {
        "id": "3HoF3gPWNDbk"
      }
    },
    {
      "cell_type": "code",
      "source": [
        "from sklearn.ensemble import BaggingRegressor\n",
        "\n",
        "model_bagging=BaggingRegressor(estimator=CatBoostRegressor(random_state=0,verbose=0),n_estimators=8,max_samples=0.8)\n",
        "model_bagging.fit(train,target)\n",
        "\n",
        "pred_test_bagging=model_bagging.predict(test)"
      ],
      "metadata": {
        "id": "sWw5x-UHN5UW"
      },
      "execution_count": null,
      "outputs": []
    },
    {
      "cell_type": "code",
      "source": [
        "sub_bagging=pd.DataFrame({\"id\":test.index,\"Age\":pred_test_bagging}).set_index(\"id\")\n",
        "sub_bagging.to_csv(\"submission_bagging.csv\")"
      ],
      "metadata": {
        "id": "aV7r0zjEO51o"
      },
      "execution_count": null,
      "outputs": []
    }
  ]
}